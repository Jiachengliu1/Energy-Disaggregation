{
  "nbformat": 4,
  "nbformat_minor": 0,
  "metadata": {
    "colab": {
      "name": "energy_disaggregation.ipynb",
      "provenance": [],
      "collapsed_sections": []
    },
    "kernelspec": {
      "display_name": "Python 3",
      "name": "python3"
    }
  },
  "cells": [
    {
      "cell_type": "code",
      "metadata": {
        "id": "nje8_lCflcQa"
      },
      "source": [
        "from collections import defaultdict\n",
        "from datetime import datetime\n",
        "from keras.models import Sequential\n",
        "from keras.layers import Dense, LSTM, Flatten, Conv1D, MaxPooling1D\n",
        "from keras.layers import Dropout\n",
        "import matplotlib.pyplot as plt\n",
        "import numpy as np\n",
        "import os\n",
        "import pandas as pd\n",
        "from sklearn import ensemble, linear_model, metrics\n",
        "from sklearn.neighbors import KNeighborsClassifier, KNeighborsRegressor\n",
        "import tensorflow\n",
        "import time"
      ],
      "execution_count": 1,
      "outputs": []
    },
    {
      "cell_type": "code",
      "metadata": {
        "colab": {
          "base_uri": "https://localhost:8080/"
        },
        "id": "F09wcgxSnXza",
        "outputId": "fcfda37a-5846-47eb-b085-b12843adb02f"
      },
      "source": [
        "# access to REDD datasets\n",
        "from google.colab import drive\n",
        "drive.mount('/content/drive')"
      ],
      "execution_count": 2,
      "outputs": [
        {
          "output_type": "stream",
          "text": [
            "Mounted at /content/drive\n"
          ],
          "name": "stdout"
        }
      ]
    },
    {
      "cell_type": "markdown",
      "metadata": {
        "id": "j-5NoWLraTu3"
      },
      "source": [
        "**Data pre-processing and exploration**"
      ]
    },
    {
      "cell_type": "code",
      "metadata": {
        "id": "1zXKYWJQoYg8"
      },
      "source": [
        "class dataPreparation:\n",
        "\n",
        "  def __init__(self, house_num):\n",
        "\n",
        "    # root path\n",
        "    self.path = '/content/drive/MyDrive/energy_disaggregation/low_freq'\n",
        "    self.house_num = house_num\n",
        "\n",
        "  def show_data(self):\n",
        "\n",
        "    new_path = self.path + '/house_' + str(self.house_num)\n",
        "    data = list()\n",
        "    # separate channel data and labels\n",
        "    for file in os.listdir(new_path):\n",
        "      if 'channel' in file:\n",
        "        data.append(file)\n",
        "      else:\n",
        "        label = file\n",
        "      data.sort(key=lambda x: int(x.split('.')[0].split('_')[1]))\n",
        "    # read labels\n",
        "    label = pd.read_table(new_path + '/' + label, names = ['label'])['label'].to_list()\n",
        "    print('house{} label: {}'.format(self.house_num, label))\n",
        "    print('house{} data: {}'.format(self.house_num, data))\n",
        "\n",
        "    return label, data, new_path\n",
        "  \n",
        "  def merge(self, label, data, new_path):\n",
        "\n",
        "    \n",
        "    df = pd.read_table(new_path + '/' + str(data[0]), sep = ' ', names = ['UTC', label[0]])\n",
        "    # merge all appliances data\n",
        "    for i in range(1, len(data)):\n",
        "      temp = pd.read_table(new_path + '/' + str(data[i]), sep = ' ', names = ['UTC', label[i]])\n",
        "      df = df.merge(temp, how = 'inner', on = 'UTC')\n",
        "    print('house{} data aggregation finished!'.format(self.house_num))\n",
        "\n",
        "    return df\n",
        "  \n",
        "  def transfer_time(self, df):\n",
        "\n",
        "    #determine if weekend or weekday\n",
        "    def isWeekend(day):\n",
        "\n",
        "      if day in {0,1,2,3,4}:\n",
        "        return False\n",
        "      return True\n",
        "\n",
        "    # tranfer UTC to local datetime, feature engineering on datetime\n",
        "    df.insert(0, 'datetime', '')\n",
        "    df['datetime'] = pd.to_datetime(df['UTC'], unit = 's')\n",
        "    df.insert(1, 'Month', '')\n",
        "    df.insert(2, 'Day', '')\n",
        "    df.insert(3, 'Hour', '')\n",
        "    df.insert(4, 'isWeekend', '')\n",
        "\n",
        "    df['Month'] = df['datetime'].dt.month\n",
        "    df['Day'] = df['datetime'].dt.day\n",
        "    df['Hour'] = df['datetime'].dt.hour\n",
        "    df['isWeekend'] = df['datetime'].dt.dayofweek.apply(isWeekend)\n",
        "\n",
        "    df = df.drop(columns = ['UTC'])\n",
        "    print('house{} shape: {}\\n'.format(self.house_num, df.shape))\n",
        "\n",
        "    return df\n",
        "\n"
      ],
      "execution_count": 3,
      "outputs": []
    },
    {
      "cell_type": "code",
      "metadata": {
        "colab": {
          "base_uri": "https://localhost:8080/"
        },
        "id": "d00d6P3hpaaE",
        "outputId": "98faaf2e-7cde-4671-b874-d50a1eb61f6a"
      },
      "source": [
        "# store all data info in a single dictionary\n",
        "data_frames = dict()\n",
        "labels = dict()\n",
        "\n",
        "for i in range(1, 7):\n",
        "  dp = dataPreparation(i)\n",
        "  label, data, path = dp.show_data()\n",
        "  labels[i] = label\n",
        "  df = dp.merge(label, data, path)\n",
        "  df = dp.transfer_time(df)\n",
        "  data_frames[i] = df\n"
      ],
      "execution_count": 4,
      "outputs": [
        {
          "output_type": "stream",
          "text": [
            "house1 label: ['1 mains', '2 mains', '3 oven', '4 oven', '5 refrigerator', '6 dishwaser', '7 kitchen_outlets', '8 kitchen_outlets', '9 lighting', '10 washer_dryer', '11 microwave', '12 bathroom_gfi', '13 electric_heat', '14 stove', '15 kitchen_outlets', '16 kitchen_outlets', '17 lighting', '18 lighting', '19 washer_dryer', '20 washer_dryer']\n",
            "house1 data: ['channel_1.dat', 'channel_2.dat', 'channel_3.dat', 'channel_4.dat', 'channel_5.dat', 'channel_6.dat', 'channel_7.dat', 'channel_8.dat', 'channel_9.dat', 'channel_10.dat', 'channel_11.dat', 'channel_12.dat', 'channel_13.dat', 'channel_14.dat', 'channel_15.dat', 'channel_16.dat', 'channel_17.dat', 'channel_18.dat', 'channel_19.dat', 'channel_20.dat']\n",
            "house1 data aggregation finished!\n",
            "house1 shape: (406748, 25)\n",
            "\n",
            "house2 label: ['1 mains', '2 mains', '3 kitchen_outlets', '4 lighting', '5 stove', '6 microwave', '7 washer_dryer', '8 kitchen_outlets', '9 refrigerator', '10 dishwaser', '11 disposal']\n",
            "house2 data: ['channel_1.dat', 'channel_2.dat', 'channel_3.dat', 'channel_4.dat', 'channel_5.dat', 'channel_6.dat', 'channel_7.dat', 'channel_8.dat', 'channel_9.dat', 'channel_10.dat', 'channel_11.dat']\n",
            "house2 data aggregation finished!\n",
            "house2 shape: (316840, 16)\n",
            "\n",
            "house3 label: ['1 mains', '2 mains', '3 outlets_unknown', '4 outlets_unknown', '5 lighting', '6 electronics', '7 refrigerator', '8 disposal', '9 dishwaser', '10 furance', '11 lighting', '12 outlets_unknown', '13 washer_dryer', '14 washer_dryer', '15 lighting', '16 microwave', '17 lighting', '18 smoke_alarms', '19 lighting', '20 bathroom_gfi', '21 kitchen_outlets', '22 kitchen_outlets']\n",
            "house3 data: ['channel_1.dat', 'channel_2.dat', 'channel_3.dat', 'channel_4.dat', 'channel_5.dat', 'channel_6.dat', 'channel_7.dat', 'channel_8.dat', 'channel_9.dat', 'channel_10.dat', 'channel_11.dat', 'channel_12.dat', 'channel_13.dat', 'channel_14.dat', 'channel_15.dat', 'channel_16.dat', 'channel_17.dat', 'channel_18.dat', 'channel_19.dat', 'channel_20.dat', 'channel_21.dat', 'channel_22.dat']\n",
            "house3 data aggregation finished!\n",
            "house3 shape: (376150, 27)\n",
            "\n",
            "house4 label: ['1 mains', '2 mains', '3 lighting', '4 furance', '5 kitchen_outlets', '6 outlets_unknown', '7 washer_dryer', '8 stove', '9 air_conditioning', '10 air_conditioning', '11 miscellaeneous', '12 smoke_alarms', '13 lighting', '14 kitchen_outlets', '15 dishwaser', '16 bathroom_gfi', '17 bathroom_gfi', '18 lighting', '19 lighting', '20 air_conditioning']\n",
            "house4 data: ['channel_1.dat', 'channel_2.dat', 'channel_3.dat', 'channel_4.dat', 'channel_5.dat', 'channel_6.dat', 'channel_7.dat', 'channel_8.dat', 'channel_9.dat', 'channel_10.dat', 'channel_11.dat', 'channel_12.dat', 'channel_13.dat', 'channel_14.dat', 'channel_15.dat', 'channel_16.dat', 'channel_17.dat', 'channel_18.dat', 'channel_19.dat', 'channel_20.dat']\n",
            "house4 data aggregation finished!\n",
            "house4 shape: (428076, 25)\n",
            "\n",
            "house5 label: ['1 mains', '2 mains', '3 microwave', '4 lighting', '5 outlets_unknown', '6 furance', '7 outlets_unknown', '8 washer_dryer', '9 washer_dryer', '10 subpanel', '11 subpanel', '12 electric_heat', '13 electric_heat', '14 lighting', '15 outlets_unknown', '16 bathroom_gfi', '17 lighting', '18 refrigerator', '19 lighting', '20 dishwaser', '21 disposal', '22 electronics', '23 lighting', '24 kitchen_outlets', '25 kitchen_outlets', '26 outdoor_outlets']\n",
            "house5 data: ['channel_1.dat', 'channel_2.dat', 'channel_3.dat', 'channel_4.dat', 'channel_5.dat', 'channel_6.dat', 'channel_7.dat', 'channel_8.dat', 'channel_9.dat', 'channel_10.dat', 'channel_11.dat', 'channel_12.dat', 'channel_13.dat', 'channel_14.dat', 'channel_15.dat', 'channel_16.dat', 'channel_17.dat', 'channel_18.dat', 'channel_19.dat', 'channel_20.dat', 'channel_21.dat', 'channel_22.dat', 'channel_23.dat', 'channel_24.dat', 'channel_25.dat', 'channel_26.dat']\n",
            "house5 data aggregation finished!\n",
            "house5 shape: (77451, 31)\n",
            "\n",
            "house6 label: ['1 mains', '2 mains', '3 kitchen_outlets', '4 washer_dryer', '5 stove', '6 electronics', '7 bathroom_gfi', '8 refrigerator', '9 dishwaser', '10 outlets_unknown', '11 outlets_unknown', '12 electric_heat', '13 kitchen_outlets', '14 lighting', '15 air_conditioning', '16 air_conditioning', '17 air_conditioning']\n",
            "house6 data: ['channel_1.dat', 'channel_2.dat', 'channel_3.dat', 'channel_4.dat', 'channel_5.dat', 'channel_6.dat', 'channel_7.dat', 'channel_8.dat', 'channel_9.dat', 'channel_10.dat', 'channel_11.dat', 'channel_12.dat', 'channel_13.dat', 'channel_14.dat', 'channel_15.dat', 'channel_16.dat', 'channel_17.dat']\n",
            "house6 data aggregation finished!\n",
            "house6 shape: (192192, 22)\n",
            "\n"
          ],
          "name": "stdout"
        }
      ]
    },
    {
      "cell_type": "code",
      "metadata": {
        "colab": {
          "base_uri": "https://localhost:8080/",
          "height": 411
        },
        "id": "CH8DJyCeLGyt",
        "outputId": "7042982f-2dd2-4a6e-8996-84956aa7622c"
      },
      "source": [
        "house1 = data_frames[1]\n",
        "house1.head()"
      ],
      "execution_count": 5,
      "outputs": [
        {
          "output_type": "execute_result",
          "data": {
            "text/html": [
              "<div>\n",
              "<style scoped>\n",
              "    .dataframe tbody tr th:only-of-type {\n",
              "        vertical-align: middle;\n",
              "    }\n",
              "\n",
              "    .dataframe tbody tr th {\n",
              "        vertical-align: top;\n",
              "    }\n",
              "\n",
              "    .dataframe thead th {\n",
              "        text-align: right;\n",
              "    }\n",
              "</style>\n",
              "<table border=\"1\" class=\"dataframe\">\n",
              "  <thead>\n",
              "    <tr style=\"text-align: right;\">\n",
              "      <th></th>\n",
              "      <th>datetime</th>\n",
              "      <th>Month</th>\n",
              "      <th>Day</th>\n",
              "      <th>Hour</th>\n",
              "      <th>isWeekend</th>\n",
              "      <th>1 mains</th>\n",
              "      <th>2 mains</th>\n",
              "      <th>3 oven</th>\n",
              "      <th>4 oven</th>\n",
              "      <th>5 refrigerator</th>\n",
              "      <th>6 dishwaser</th>\n",
              "      <th>7 kitchen_outlets</th>\n",
              "      <th>8 kitchen_outlets</th>\n",
              "      <th>9 lighting</th>\n",
              "      <th>10 washer_dryer</th>\n",
              "      <th>11 microwave</th>\n",
              "      <th>12 bathroom_gfi</th>\n",
              "      <th>13 electric_heat</th>\n",
              "      <th>14 stove</th>\n",
              "      <th>15 kitchen_outlets</th>\n",
              "      <th>16 kitchen_outlets</th>\n",
              "      <th>17 lighting</th>\n",
              "      <th>18 lighting</th>\n",
              "      <th>19 washer_dryer</th>\n",
              "      <th>20 washer_dryer</th>\n",
              "    </tr>\n",
              "  </thead>\n",
              "  <tbody>\n",
              "    <tr>\n",
              "      <th>0</th>\n",
              "      <td>2011-04-18 13:22:13</td>\n",
              "      <td>4</td>\n",
              "      <td>18</td>\n",
              "      <td>13</td>\n",
              "      <td>False</td>\n",
              "      <td>222.20</td>\n",
              "      <td>118.83</td>\n",
              "      <td>0.0</td>\n",
              "      <td>0.0</td>\n",
              "      <td>6.0</td>\n",
              "      <td>0.0</td>\n",
              "      <td>34.0</td>\n",
              "      <td>21.0</td>\n",
              "      <td>81.0</td>\n",
              "      <td>0.0</td>\n",
              "      <td>5.0</td>\n",
              "      <td>1.0</td>\n",
              "      <td>0.0</td>\n",
              "      <td>0.0</td>\n",
              "      <td>2.0</td>\n",
              "      <td>0.0</td>\n",
              "      <td>65.0</td>\n",
              "      <td>46.0</td>\n",
              "      <td>0.0</td>\n",
              "      <td>0.0</td>\n",
              "    </tr>\n",
              "    <tr>\n",
              "      <th>1</th>\n",
              "      <td>2011-04-18 13:22:16</td>\n",
              "      <td>4</td>\n",
              "      <td>18</td>\n",
              "      <td>13</td>\n",
              "      <td>False</td>\n",
              "      <td>223.17</td>\n",
              "      <td>119.19</td>\n",
              "      <td>0.0</td>\n",
              "      <td>0.0</td>\n",
              "      <td>6.0</td>\n",
              "      <td>0.0</td>\n",
              "      <td>34.0</td>\n",
              "      <td>21.0</td>\n",
              "      <td>81.0</td>\n",
              "      <td>0.0</td>\n",
              "      <td>5.0</td>\n",
              "      <td>1.0</td>\n",
              "      <td>0.0</td>\n",
              "      <td>0.0</td>\n",
              "      <td>2.0</td>\n",
              "      <td>0.0</td>\n",
              "      <td>65.0</td>\n",
              "      <td>46.0</td>\n",
              "      <td>0.0</td>\n",
              "      <td>0.0</td>\n",
              "    </tr>\n",
              "    <tr>\n",
              "      <th>2</th>\n",
              "      <td>2011-04-18 13:22:20</td>\n",
              "      <td>4</td>\n",
              "      <td>18</td>\n",
              "      <td>13</td>\n",
              "      <td>False</td>\n",
              "      <td>223.60</td>\n",
              "      <td>118.92</td>\n",
              "      <td>0.0</td>\n",
              "      <td>0.0</td>\n",
              "      <td>6.0</td>\n",
              "      <td>0.0</td>\n",
              "      <td>34.0</td>\n",
              "      <td>22.0</td>\n",
              "      <td>81.0</td>\n",
              "      <td>0.0</td>\n",
              "      <td>5.0</td>\n",
              "      <td>1.0</td>\n",
              "      <td>0.0</td>\n",
              "      <td>0.0</td>\n",
              "      <td>2.0</td>\n",
              "      <td>0.0</td>\n",
              "      <td>65.0</td>\n",
              "      <td>46.0</td>\n",
              "      <td>0.0</td>\n",
              "      <td>0.0</td>\n",
              "    </tr>\n",
              "    <tr>\n",
              "      <th>3</th>\n",
              "      <td>2011-04-18 13:22:23</td>\n",
              "      <td>4</td>\n",
              "      <td>18</td>\n",
              "      <td>13</td>\n",
              "      <td>False</td>\n",
              "      <td>222.91</td>\n",
              "      <td>119.16</td>\n",
              "      <td>0.0</td>\n",
              "      <td>0.0</td>\n",
              "      <td>6.0</td>\n",
              "      <td>1.0</td>\n",
              "      <td>35.0</td>\n",
              "      <td>21.0</td>\n",
              "      <td>81.0</td>\n",
              "      <td>0.0</td>\n",
              "      <td>5.0</td>\n",
              "      <td>1.0</td>\n",
              "      <td>0.0</td>\n",
              "      <td>0.0</td>\n",
              "      <td>1.0</td>\n",
              "      <td>0.0</td>\n",
              "      <td>65.0</td>\n",
              "      <td>46.0</td>\n",
              "      <td>0.0</td>\n",
              "      <td>0.0</td>\n",
              "    </tr>\n",
              "    <tr>\n",
              "      <th>4</th>\n",
              "      <td>2011-04-18 13:22:26</td>\n",
              "      <td>4</td>\n",
              "      <td>18</td>\n",
              "      <td>13</td>\n",
              "      <td>False</td>\n",
              "      <td>222.94</td>\n",
              "      <td>118.83</td>\n",
              "      <td>0.0</td>\n",
              "      <td>0.0</td>\n",
              "      <td>6.0</td>\n",
              "      <td>0.0</td>\n",
              "      <td>34.0</td>\n",
              "      <td>21.0</td>\n",
              "      <td>81.0</td>\n",
              "      <td>0.0</td>\n",
              "      <td>5.0</td>\n",
              "      <td>1.0</td>\n",
              "      <td>0.0</td>\n",
              "      <td>0.0</td>\n",
              "      <td>2.0</td>\n",
              "      <td>0.0</td>\n",
              "      <td>65.0</td>\n",
              "      <td>46.0</td>\n",
              "      <td>0.0</td>\n",
              "      <td>0.0</td>\n",
              "    </tr>\n",
              "  </tbody>\n",
              "</table>\n",
              "</div>"
            ],
            "text/plain": [
              "             datetime  Month  ...  19 washer_dryer  20 washer_dryer\n",
              "0 2011-04-18 13:22:13      4  ...              0.0              0.0\n",
              "1 2011-04-18 13:22:16      4  ...              0.0              0.0\n",
              "2 2011-04-18 13:22:20      4  ...              0.0              0.0\n",
              "3 2011-04-18 13:22:23      4  ...              0.0              0.0\n",
              "4 2011-04-18 13:22:26      4  ...              0.0              0.0\n",
              "\n",
              "[5 rows x 25 columns]"
            ]
          },
          "metadata": {
            "tags": []
          },
          "execution_count": 5
        }
      ]
    },
    {
      "cell_type": "code",
      "metadata": {
        "id": "654x-ltOVFC3"
      },
      "source": [
        "# generate demo datasets\n",
        "mask1 = (house1['datetime'] >= '2011-05-01 00:00:00') & (house1['datetime'] <= '2011-05-02 00:00:00')\n",
        "test1 = house1.loc[mask1][['datetime', '1 mains', '2 mains']]\n",
        "test1.to_csv('/content/drive/MyDrive/energy_disaggregation/low_freq/demo_test/house1_0501_0502.dat', index=False)"
      ],
      "execution_count": 6,
      "outputs": []
    },
    {
      "cell_type": "code",
      "metadata": {
        "colab": {
          "base_uri": "https://localhost:8080/",
          "height": 419
        },
        "id": "pvnv_Fs3Vq63",
        "outputId": "d1b5a1bf-c6e6-4425-9928-6e8d24bf15f4"
      },
      "source": [
        "test1"
      ],
      "execution_count": 7,
      "outputs": [
        {
          "output_type": "execute_result",
          "data": {
            "text/html": [
              "<div>\n",
              "<style scoped>\n",
              "    .dataframe tbody tr th:only-of-type {\n",
              "        vertical-align: middle;\n",
              "    }\n",
              "\n",
              "    .dataframe tbody tr th {\n",
              "        vertical-align: top;\n",
              "    }\n",
              "\n",
              "    .dataframe thead th {\n",
              "        text-align: right;\n",
              "    }\n",
              "</style>\n",
              "<table border=\"1\" class=\"dataframe\">\n",
              "  <thead>\n",
              "    <tr style=\"text-align: right;\">\n",
              "      <th></th>\n",
              "      <th>datetime</th>\n",
              "      <th>1 mains</th>\n",
              "      <th>2 mains</th>\n",
              "    </tr>\n",
              "  </thead>\n",
              "  <tbody>\n",
              "    <tr>\n",
              "      <th>234362</th>\n",
              "      <td>2011-05-01 00:00:01</td>\n",
              "      <td>126.71</td>\n",
              "      <td>117.07</td>\n",
              "    </tr>\n",
              "    <tr>\n",
              "      <th>234363</th>\n",
              "      <td>2011-05-01 00:00:04</td>\n",
              "      <td>130.63</td>\n",
              "      <td>116.56</td>\n",
              "    </tr>\n",
              "    <tr>\n",
              "      <th>234364</th>\n",
              "      <td>2011-05-01 00:00:08</td>\n",
              "      <td>130.26</td>\n",
              "      <td>116.53</td>\n",
              "    </tr>\n",
              "    <tr>\n",
              "      <th>234365</th>\n",
              "      <td>2011-05-01 00:00:11</td>\n",
              "      <td>130.81</td>\n",
              "      <td>117.07</td>\n",
              "    </tr>\n",
              "    <tr>\n",
              "      <th>234366</th>\n",
              "      <td>2011-05-01 00:00:15</td>\n",
              "      <td>126.22</td>\n",
              "      <td>117.11</td>\n",
              "    </tr>\n",
              "    <tr>\n",
              "      <th>...</th>\n",
              "      <td>...</td>\n",
              "      <td>...</td>\n",
              "      <td>...</td>\n",
              "    </tr>\n",
              "    <tr>\n",
              "      <th>256811</th>\n",
              "      <td>2011-05-01 23:59:45</td>\n",
              "      <td>137.49</td>\n",
              "      <td>118.13</td>\n",
              "    </tr>\n",
              "    <tr>\n",
              "      <th>256812</th>\n",
              "      <td>2011-05-01 23:59:49</td>\n",
              "      <td>137.81</td>\n",
              "      <td>118.40</td>\n",
              "    </tr>\n",
              "    <tr>\n",
              "      <th>256813</th>\n",
              "      <td>2011-05-01 23:59:52</td>\n",
              "      <td>137.63</td>\n",
              "      <td>118.33</td>\n",
              "    </tr>\n",
              "    <tr>\n",
              "      <th>256814</th>\n",
              "      <td>2011-05-01 23:59:56</td>\n",
              "      <td>138.33</td>\n",
              "      <td>118.60</td>\n",
              "    </tr>\n",
              "    <tr>\n",
              "      <th>256815</th>\n",
              "      <td>2011-05-01 23:59:59</td>\n",
              "      <td>137.86</td>\n",
              "      <td>118.14</td>\n",
              "    </tr>\n",
              "  </tbody>\n",
              "</table>\n",
              "<p>22454 rows × 3 columns</p>\n",
              "</div>"
            ],
            "text/plain": [
              "                  datetime  1 mains  2 mains\n",
              "234362 2011-05-01 00:00:01   126.71   117.07\n",
              "234363 2011-05-01 00:00:04   130.63   116.56\n",
              "234364 2011-05-01 00:00:08   130.26   116.53\n",
              "234365 2011-05-01 00:00:11   130.81   117.07\n",
              "234366 2011-05-01 00:00:15   126.22   117.11\n",
              "...                    ...      ...      ...\n",
              "256811 2011-05-01 23:59:45   137.49   118.13\n",
              "256812 2011-05-01 23:59:49   137.81   118.40\n",
              "256813 2011-05-01 23:59:52   137.63   118.33\n",
              "256814 2011-05-01 23:59:56   138.33   118.60\n",
              "256815 2011-05-01 23:59:59   137.86   118.14\n",
              "\n",
              "[22454 rows x 3 columns]"
            ]
          },
          "metadata": {
            "tags": []
          },
          "execution_count": 7
        }
      ]
    },
    {
      "cell_type": "code",
      "metadata": {
        "id": "l_ZAk1G01p52"
      },
      "source": [
        "class dataExploration:\n",
        "\n",
        "  def __init__(self, house_num, df):\n",
        "    self.house_num = house_num\n",
        "    self.df = df\n",
        "\n",
        "  # measure duration in days\n",
        "  def measure_duration(self):\n",
        "\n",
        "    duration = set()\n",
        "    for timestamp in self.df['datetime'].values:\n",
        "      duration.add(str(timestamp)[:10])\n",
        "    duration = sorted(duration)\n",
        "\n",
        "    def days_count(d1, d2):\n",
        "        start = datetime.strptime(d1, \"%Y-%m-%d\")\n",
        "        end = datetime.strptime(d2, \"%Y-%m-%d\")\n",
        "        return abs((end - start).days)\n",
        "    \n",
        "    print('House{}: start {}, end {}, duration {} days'.format(self.house_num, duration[0], duration[-1], days_count(duration[0], duration[-1])))\n",
        "    return days_count(duration[0], duration[-1])\n",
        "\n",
        "  def rank_appliance(self):\n",
        "    \n",
        "    appliances = list()\n",
        "\n",
        "    for attr in self.df.columns:\n",
        "      if attr not in ['datetime', 'Year', 'Month', 'Day', 'Hour', 'Minute', 'Second', 'isWeekend', '1 mains', '2 mains']:\n",
        "        appliances.append((attr, self.df[attr].sum()))\n",
        "        appliances.sort(key=lambda x: -x[1])\n",
        "        top5 = [pair[0] for pair in appliances[:5]]\n",
        "\n",
        "    print('house{} top 5 appliances: {}'.format(self.house_num, top5))\n",
        "    return top5"
      ],
      "execution_count": 8,
      "outputs": []
    },
    {
      "cell_type": "code",
      "metadata": {
        "colab": {
          "base_uri": "https://localhost:8080/",
          "height": 506
        },
        "id": "fZy3Vhfu1p3o",
        "outputId": "f3e49c91-056d-437e-a458-9b1eb2f2998a"
      },
      "source": [
        "durations = list()\n",
        "\n",
        "for i, df in data_frames.items():\n",
        "  de = dataExploration(i, df)\n",
        "  durations.append(de.measure_duration())\n",
        "\n",
        "# plot\n",
        "houses = range(1, 7)\n",
        "plt.figure(figsize=(8, 6))\n",
        "plt.plot(houses, durations, marker='o')\n",
        "plt.title('Household Measurement Durations')\n",
        "plt.xlabel('House')\n",
        "plt.ylabel('Duration (days)')\n",
        "for i, j in zip(houses, durations):\n",
        "    plt.text(i, j, j, ha='center', va='bottom', fontsize=16)\n",
        "plt.hlines(y=sum(durations)/len(durations), xmin=1, xmax=len(durations), color='r', linestyle='--')\n",
        "plt.show()\n"
      ],
      "execution_count": 9,
      "outputs": [
        {
          "output_type": "stream",
          "text": [
            "House1: start 2011-04-18, end 2011-05-24, duration 36 days\n",
            "House2: start 2011-04-18, end 2011-05-22, duration 34 days\n",
            "House3: start 2011-04-16, end 2011-05-31, duration 45 days\n",
            "House4: start 2011-04-17, end 2011-06-04, duration 48 days\n",
            "House5: start 2011-04-18, end 2011-06-01, duration 44 days\n",
            "House6: start 2011-05-21, end 2011-06-14, duration 24 days\n"
          ],
          "name": "stdout"
        },
        {
          "output_type": "display_data",
          "data": {
            "image/png": "[encoded data removed]",
            "text/plain": [
              "<Figure size 576x432 with 1 Axes>"
            ]
          },
          "metadata": {
            "tags": [],
            "needs_background": "light"
          }
        }
      ]
    },
    {
      "cell_type": "code",
      "metadata": {
        "colab": {
          "base_uri": "https://localhost:8080/",
          "height": 687
        },
        "id": "l0dIHszX1p72",
        "outputId": "bb46b99f-85f6-4547-ae85-342a9d412427"
      },
      "source": [
        "freq_count = defaultdict(int)\n",
        "\n",
        "for i, df in data_frames.items():\n",
        "  de = dataExploration(i, df)\n",
        "  top5 = de.rank_appliance()\n",
        "  for appliance in top5:\n",
        "      name = appliance.split()[1]\n",
        "      freq_count[name] += 1\n",
        "\n",
        "freq_count =  [(k, v) for k, v in sorted(freq_count.items(), key=lambda x: -x[1])]\n",
        "print('\\n')\n",
        "print('top 2 appliances of all houses: {}'.format([pair[0] for pair in freq_count[:2]]))\n",
        "\n",
        "# plot\n",
        "appliances = [pair[0] for pair in freq_count]\n",
        "freq = [pair[1] for pair in freq_count]\n",
        "plt.figure(figsize=(14, 8))\n",
        "plt.bar(appliances, freq, color=\"tab:blue\")  \n",
        "plt.title('High-Consumption Appliance Distribution')\n",
        "plt.xlabel('Appliance Category')\n",
        "plt.xticks(rotation=15)   \n",
        "plt.ylabel('Frequency')\n",
        "for i, j in zip(appliances, freq):\n",
        "    plt.text(i, j, j, ha='center', va='bottom', fontsize=16)\n",
        "plt.show()\n"
      ],
      "execution_count": 10,
      "outputs": [
        {
          "output_type": "stream",
          "text": [
            "house1 top 5 appliances: ['5 refrigerator', '9 lighting', '20 washer_dryer', '8 kitchen_outlets', '6 dishwaser']\n",
            "house2 top 5 appliances: ['9 refrigerator', '4 lighting', '6 microwave', '8 kitchen_outlets', '10 dishwaser']\n",
            "house3 top 5 appliances: ['6 electronics', '7 refrigerator', '14 washer_dryer', '11 lighting', '17 lighting']\n",
            "house4 top 5 appliances: ['4 furance', '14 kitchen_outlets', '13 lighting', '3 lighting', '8 stove']\n",
            "house5 top 5 appliances: ['23 lighting', '18 refrigerator', '6 furance', '10 subpanel', '11 subpanel']\n",
            "house6 top 5 appliances: ['14 lighting', '8 refrigerator', '16 air_conditioning', '17 air_conditioning', '15 air_conditioning']\n",
            "\n",
            "\n",
            "top 2 appliances of all houses: ['lighting', 'refrigerator']\n"
          ],
          "name": "stdout"
        },
        {
          "output_type": "display_data",
          "data": {
            "image/png": "[encoded data removed]",
            "text/plain": [
              "<Figure size 1008x576 with 1 Axes>"
            ]
          },
          "metadata": {
            "tags": [],
            "needs_background": "light"
          }
        }
      ]
    },
    {
      "cell_type": "code",
      "metadata": {
        "id": "ufm0wMuS1qZw"
      },
      "source": [
        "# random two day curve of house1 washdisher and refrigerator\n",
        "house1 = data_frames[1]\n",
        "mask = (house1['datetime'] > '2011-04-25 00:00:00') & (house1['datetime'] < '2011-04-27 00:00:00')\n",
        "test_df = house1.loc[mask] \n",
        "\n",
        "timestamp = test_df['datetime']\n",
        "dishwasher = test_df['6 dishwaser']\n",
        "refrigerator = test_df['5 refrigerator']"
      ],
      "execution_count": 11,
      "outputs": []
    },
    {
      "cell_type": "markdown",
      "metadata": {
        "id": "xMGgy0jgkAln"
      },
      "source": [
        "**Train Test Split**\n"
      ]
    },
    {
      "cell_type": "code",
      "metadata": {
        "id": "r0QhvSmZ9q6D",
        "colab": {
          "base_uri": "https://localhost:8080/"
        },
        "outputId": "c0be7350-160a-47e7-d26b-7faac463bf19"
      },
      "source": [
        "# Train test split on house 1 on 4/30/2011, about 60% training, 40% testing\n",
        "house1 = data_frames[1]\n",
        "house1_train = house1.iloc[:234362, :]\n",
        "house1_test = house1.iloc[234362:, :]\n",
        "X_train, y_train_ref, y_train_dishwasher = house1_train[['Month', 'Day', 'Hour', 'isWeekend', '1 mains', '2 mains']], house1_train['5 refrigerator'], house1_train['6 dishwaser']\n",
        "X_test, y_test_ref, y_test_dishwasher = house1_test[['Month', 'Day', 'Hour', 'isWeekend', '1 mains', '2 mains']], house1_test['5 refrigerator'], house1_test['6 dishwaser']\n",
        "print('X_train size: {}, y_train_ref size: {}'.format(X_train.shape, y_train_ref.shape))\n",
        "print('X_test size: {}, y_test_ref size: {}'.format(X_test.shape, y_test_ref.shape))\n",
        "# classification on/off state of refrigerator and dishwasher\n",
        "y_train_ref_classification = y_train_ref.apply(lambda x: 0 if int(x) <= 7 else 1)\n",
        "y_test_ref_classification = y_test_ref.apply(lambda x: 0 if int(x) <= 7 else 1)\n",
        "y_train_dishwasher_classification = y_train_dishwasher.apply(lambda x: 0 if int(x) == 0 else 1)\n",
        "y_test_dishwasher_classification = y_test_dishwasher.apply(lambda x: 0 if int(x) == 0 else 1)"
      ],
      "execution_count": 12,
      "outputs": [
        {
          "output_type": "stream",
          "text": [
            "X_train size: (234362, 6), y_train_ref size: (234362,)\n",
            "X_test size: (172386, 6), y_test_ref size: (172386,)\n"
          ],
          "name": "stdout"
        }
      ]
    },
    {
      "cell_type": "markdown",
      "metadata": {
        "id": "Qr9PJk-ijtHe"
      },
      "source": [
        "**Baseline Model**\n"
      ]
    },
    {
      "cell_type": "code",
      "metadata": {
        "colab": {
          "base_uri": "https://localhost:8080/"
        },
        "id": "40HDqx44jxL1",
        "outputId": "899b7343-6993-428e-bd5d-02fd4c4eec7a"
      },
      "source": [
        "# baseline model using Logistic Regression\n",
        "lr_clf1 = linear_model.LogisticRegression().fit(X_train, y_train_ref_classification)\n",
        "lr_accuracy1 = metrics.accuracy_score(y_test_ref_classification, lr_clf1.predict(X_test))\n",
        "print('Logistic Regression Accuracy of Refrigerator:', lr_accuracy1)\n",
        "lr_clf2 = linear_model.LogisticRegression().fit(X_train, y_train_dishwasher_classification)\n",
        "lr_accuracy2 = metrics.accuracy_score(y_test_dishwasher_classification, lr_clf2.predict(X_test))\n",
        "print('Logistic Regression Accuracy of Dishwasher:', lr_accuracy2)"
      ],
      "execution_count": 13,
      "outputs": [
        {
          "output_type": "stream",
          "text": [
            "Logistic Regression Accuracy of Refrigerator: 0.7392827723829081\n",
            "Logistic Regression Accuracy of Dishwasher: 0.9073068578654879\n"
          ],
          "name": "stdout"
        }
      ]
    },
    {
      "cell_type": "code",
      "metadata": {
        "colab": {
          "base_uri": "https://localhost:8080/"
        },
        "id": "L-pTmpkCj0Ub",
        "outputId": "71edeaaa-f8ff-42c8-ad88-8d89420622e2"
      },
      "source": [
        "# baseline model using Linear Regression\n",
        "lr1 = linear_model.LinearRegression().fit(X_train, y_train_ref)\n",
        "print('Linear Regression RMSE of Refrigerator:', np.sqrt(metrics.mean_squared_error(y_test_ref, lr1.predict(X_test))))\n",
        "print('Linear Regression MAE of Refrigerator:', np.sqrt(metrics.mean_absolute_error(y_test_ref, lr1.predict(X_test))))\n",
        "lr2 = linear_model.LinearRegression().fit(X_train, y_train_dishwasher)\n",
        "print('Linear Regression RMSE of Dishwasher:', np.sqrt(metrics.mean_squared_error(y_test_dishwasher, lr2.predict(X_test))))\n",
        "print('Linear Regression MAE of Dishwasher:', np.sqrt(metrics.mean_absolute_error(y_test_dishwasher, lr2.predict(X_test))))"
      ],
      "execution_count": 14,
      "outputs": [
        {
          "output_type": "stream",
          "text": [
            "Linear Regression RMSE of Refrigerator: 84.19925967406539\n",
            "Linear Regression MAE of Refrigerator: 8.04689858622648\n",
            "Linear Regression RMSE of Dishwasher: 121.00577351830307\n",
            "Linear Regression MAE of Dishwasher: 7.412858263069328\n"
          ],
          "name": "stdout"
        }
      ]
    },
    {
      "cell_type": "markdown",
      "metadata": {
        "id": "-hkffLTIrZGU"
      },
      "source": [
        "**Random Forest Classification and Regression**\n",
        "\n",
        "\n"
      ]
    },
    {
      "cell_type": "code",
      "metadata": {
        "colab": {
          "base_uri": "https://localhost:8080/"
        },
        "id": "IAdmX_NYOjuI",
        "outputId": "677edcd1-9344-4b7d-e669-307fae0a3bf8"
      },
      "source": [
        "# Random Forest Classification\n",
        "rf_clf1 = ensemble.RandomForestClassifier(max_depth=10, random_state=0).fit(X_train, y_train_ref_classification)\n",
        "rf_accuracy1 = metrics.accuracy_score(y_test_ref_classification, rf_clf1.predict(X_test))\n",
        "print('Random Forest Classification Accuracy of Refrigerator:', rf_accuracy1)\n",
        "rf_clf2 = ensemble.RandomForestClassifier(max_depth=10, random_state=0).fit(X_train, y_train_dishwasher_classification)\n",
        "rf_accuracy2 = metrics.accuracy_score(y_test_dishwasher_classification, rf_clf2.predict(X_test))\n",
        "print('Random Forest Classification Accuracy of Dishwasher:', rf_accuracy2)"
      ],
      "execution_count": 15,
      "outputs": [
        {
          "output_type": "stream",
          "text": [
            "Random Forest Classification Accuracy of Refrigerator: 0.9818778787140487\n",
            "Random Forest Classification Accuracy of Dishwasher: 0.9272330699708793\n"
          ],
          "name": "stdout"
        }
      ]
    },
    {
      "cell_type": "code",
      "metadata": {
        "colab": {
          "base_uri": "https://localhost:8080/"
        },
        "id": "mNAPCvPiuGIC",
        "outputId": "736d9358-af0c-4ee5-9ea4-d47d9b48dfe0"
      },
      "source": [
        "# Random Forest Regression\n",
        "start_time = time.time()\n",
        "regressor1 = ensemble.RandomForestRegressor(n_estimators=5, random_state=10)\n",
        "regressor1.fit(X_train, y_train_ref)\n",
        "print(\"Train time {} seconds\".format(time.time() - start_time))\n",
        "y_predict_ref = regressor1.predict(X_test)\n",
        "print('Random Forest Regression RMSE of Refrigerator:', np.sqrt(metrics.mean_squared_error(y_test_ref, y_predict_ref)))\n",
        "print('Random Forest Regression MAE of Refrigerator:', np.sqrt(metrics.mean_absolute_error(y_test_ref, y_predict_ref)))\n",
        "start_time = time.time()\n",
        "regressor2 = ensemble.RandomForestRegressor(n_estimators=5, random_state=10)\n",
        "regressor2.fit(X_train, y_train_dishwasher)\n",
        "print(\"Train time {} seconds\".format(time.time() - start_time))\n",
        "y_predict_dishwasher = regressor2.predict(X_test)\n",
        "print('Random Forest Regression RMSE of Dishwasher:', np.sqrt(metrics.mean_squared_error(y_test_dishwasher, y_predict_dishwasher)))\n",
        "print('Random Forest Regression MAE of Dishwasher:', np.sqrt(metrics.mean_absolute_error(y_test_dishwasher, y_predict_dishwasher)))"
      ],
      "execution_count": 16,
      "outputs": [
        {
          "output_type": "stream",
          "text": [
            "Train time 4.6267991065979 seconds\n",
            "Random Forest Regression RMSE of Refrigerator: 46.852122837932\n",
            "Random Forest Regression MAE of Refrigerator: 3.657752650217556\n",
            "Train time 3.649709463119507 seconds\n",
            "Random Forest Regression RMSE of Dishwasher: 65.11049373604263\n",
            "Random Forest Regression MAE of Dishwasher: 3.201354799562547\n"
          ],
          "name": "stdout"
        }
      ]
    },
    {
      "cell_type": "code",
      "metadata": {
        "id": "_fZ_nmLFuG8L"
      },
      "source": [
        "# Random Forest Regression on other appliances of house 1\n",
        "# appliance_labels = list()\n",
        "# lr_R_square = list()\n",
        "# rf_R_square = list()\n",
        "# lr_RMSE = list()\n",
        "# rf_RMSE = list()\n",
        "\n",
        "# for label in labels[1]:\n",
        "#   if label not in ('1 mains', '2 mains'):\n",
        "#     appliance_labels.append(label)\n",
        "#     y_train = house1_train[label]\n",
        "#     y_test = house1_test[label]\n",
        "#     reg = linear_model.LinearRegression().fit(X_train, y_train)\n",
        "#     #lr_R_square.append(metrics.r2_score(y_test, reg.predict(X_test)))\n",
        "#     lr_RMSE.append(np.sqrt(metrics.mean_squared_error(y_test, reg.predict(X_test))))\n",
        "#     regressor = ensemble.RandomForestRegressor(n_estimators=5, random_state=10)\n",
        "#     regressor.fit(X_train, y_train)\n",
        "#     #rf_R_square.append(metrics.r2_score(y_test, regressor.predict(X_test)))\n",
        "#     rf_RMSE.append(np.sqrt(metrics.mean_squared_error(y_test, regressor.predict(X_test))))\n",
        "  \n",
        "# table1 = pd.DataFrame(zip(appliance_labels, lr_RMSE, rf_RMSE), columns=['Appliance', 'Linear Regression RMSE', 'Random Forest Regression RMSE'])\n",
        "# table1"
      ],
      "execution_count": 17,
      "outputs": []
    },
    {
      "cell_type": "markdown",
      "metadata": {
        "id": "Y2R2jGbE0e-1"
      },
      "source": [
        "**KNN Classification and Regression**\n"
      ]
    },
    {
      "cell_type": "code",
      "metadata": {
        "colab": {
          "base_uri": "https://localhost:8080/"
        },
        "id": "nhuYDnqRuHNX",
        "outputId": "d3a5b3bf-1a7d-47d3-fd95-c58f8433ae66"
      },
      "source": [
        "# KNN classification\n",
        "neigh1 = KNeighborsClassifier(n_neighbors = 100)\n",
        "neigh1.fit(X_train, y_train_ref_classification)\n",
        "y_predict = neigh1.predict(X_test)\n",
        "knn_accuracy1 = metrics.accuracy_score(y_test_ref_classification,y_predict )\n",
        "knn_cm1 = metrics.confusion_matrix(y_test_ref_classification, y_predict)\n",
        "print('KNN Classification Accuracy of Refrigerator:', knn_accuracy1)\n",
        "print('KNN Classification confusion_matrix of Refrigerator:\\n', knn_cm1)\n",
        "neigh2 = KNeighborsClassifier(n_neighbors = 100)\n",
        "neigh2.fit(X_train, y_train_dishwasher_classification)\n",
        "y_predict = neigh2.predict(X_test)\n",
        "knn_accuracy2 = metrics.accuracy_score(y_test_dishwasher_classification,y_predict )\n",
        "knn_cm2 = metrics.confusion_matrix(y_test_dishwasher_classification, y_predict)\n",
        "print('KNN Classification Accuracy of dishwasher:', knn_accuracy2)\n",
        "print('KNN Classification confusion_matrix of Dishwasher:\\n', knn_cm2)"
      ],
      "execution_count": 18,
      "outputs": [
        {
          "output_type": "stream",
          "text": [
            "KNN Classification Accuracy of Refrigerator: 0.979864954230622\n",
            "KNN Classification confusion_matrix of Refrigerator:\n",
            " [[125780   1846]\n",
            " [  1625  43135]]\n",
            "KNN Classification Accuracy of dishwasher: 0.9151033146543223\n",
            "KNN Classification confusion_matrix of Dishwasher:\n",
            " [[150626   6072]\n",
            " [  8563   7125]]\n"
          ],
          "name": "stdout"
        }
      ]
    },
    {
      "cell_type": "code",
      "metadata": {
        "colab": {
          "base_uri": "https://localhost:8080/"
        },
        "id": "xSMjOldduHR5",
        "outputId": "c06f293f-fde8-47f1-85f3-9c182567c5b7"
      },
      "source": [
        "# KNN regression\n",
        "start_time = time.time()\n",
        "neigh1 = KNeighborsRegressor(n_neighbors=100)\n",
        "neigh1.fit(X_train, y_train_ref)\n",
        "print(\"Train time {} seconds\".format(time.time() - start_time))\n",
        "y_predict = neigh1.predict(X_test)\n",
        "print('KNN Regression RMSE of Refrigerator:', np.sqrt(metrics.mean_squared_error(y_test_ref, y_predict)))\n",
        "print('KNN Regression MAE of Refrigerator:', np.sqrt(metrics.mean_absolute_error(y_test_ref, y_predict)))\n",
        "start_time = time.time()\n",
        "neigh2 = KNeighborsRegressor(n_neighbors=100)\n",
        "neigh2.fit(X_train, y_train_dishwasher)\n",
        "print(\"Train time {} seconds\".format(time.time() - start_time))\n",
        "y_predict = neigh2.predict(X_test)\n",
        "print('KNN Regression RMSE of Dishwasher:', np.sqrt(metrics.mean_squared_error(y_test_dishwasher, y_predict)))\n",
        "print('KNN Regression MAE of Dishwasher:', np.sqrt(metrics.mean_absolute_error(y_test_dishwasher, y_predict)))"
      ],
      "execution_count": 19,
      "outputs": [
        {
          "output_type": "stream",
          "text": [
            "Train time 0.45789241790771484 seconds\n",
            "KNN Regression RMSE of Refrigerator: 36.367459101130414\n",
            "KNN Regression MAE of Refrigerator: 2.8998756872967997\n",
            "Train time 0.4481027126312256 seconds\n",
            "KNN Regression RMSE of Dishwasher: 50.54816953810688\n",
            "KNN Regression MAE of Dishwasher: 2.4764111688286072\n"
          ],
          "name": "stdout"
        }
      ]
    },
    {
      "cell_type": "code",
      "metadata": {
        "id": "9ElfVq6-uHXT"
      },
      "source": [
        "# KNN Regression on other appliances of house 1\n",
        "# appliance_labels = list()\n",
        "# lr_R_square = list()\n",
        "# rf_R_square = list()\n",
        "# lr_RMSE = list()\n",
        "# rf_RMSE = list()\n",
        "\n",
        "# for label in labels[1]:\n",
        "#     if label not in ('1 mains', '2 mains'):\n",
        "#         appliance_labels.append(label)\n",
        "#         y_train = house1_train[label]\n",
        "#         y_test = house1_test[label]\n",
        "#         reg = linear_model.LinearRegression().fit(X_train, y_train)\n",
        "#         #lr_R_square.append(metrics.r2_score(y_test, reg.predict(X_test)))\n",
        "#         lr_RMSE.append(np.sqrt(metrics.mean_squared_error(y_test, reg.predict(X_test))))\n",
        "#         regressor = KNeighborsRegressor(n_neighbors=100)\n",
        "#         regressor.fit(X_train, y_train)\n",
        "#         #rf_R_square.append(metrics.r2_score(y_test, regressor.predict(X_test)))\n",
        "#         rf_RMSE.append(np.sqrt(metrics.mean_squared_error(y_test, regressor.predict(X_test))))\n",
        "        \n",
        "# table2 = pd.DataFrame(zip(appliance_labels, lr_RMSE, rf_RMSE), columns=['Appliance', 'Linear Regression RMSE', 'KNN Regression RMSE'])\n",
        "# table2"
      ],
      "execution_count": 20,
      "outputs": []
    },
    {
      "cell_type": "code",
      "metadata": {
        "colab": {
          "base_uri": "https://localhost:8080/",
          "height": 533
        },
        "id": "n3-t5aiZ8H_5",
        "outputId": "80dfa98a-9f36-4d58-b1e4-2b79dc265c61"
      },
      "source": [
        "# Prediction demo\n",
        "fig, axs = plt.subplots(2, figsize=(20,8))\n",
        "fig.tight_layout(pad=5)\n",
        "timestamp = house1_test['datetime'][2000:3000]\n",
        "dishwasher = y_test_dishwasher[2000:3000]\n",
        "dishwasher_rf = y_predict_dishwasher[2000:3000]\n",
        "dishwasher_knn = y_predict[2000:3000]\n",
        "axs[0].plot(timestamp, dishwasher, color='green', label='Actual Power Consumption')\n",
        "axs[0].plot(timestamp, dishwasher_rf, color='orange', label='Predicted Power Consumption')\n",
        "axs[0].legend(loc=\"upper right\")\n",
        "axs[0].set_title('Dishwasher Prediction using Random Forest')\n",
        "axs[0].set_xlabel('Timestamp')\n",
        "axs[0].set_ylabel('Power Consumption')\n",
        "axs[1].plot(timestamp, dishwasher, color='green', label='Actual Power Consumption')\n",
        "axs[1].plot(timestamp, dishwasher_knn, color='orange', label='Predicted Power Consumption')\n",
        "axs[1].legend(loc=\"upper right\")\n",
        "axs[1].set_title('Dishwasher Prediction using KNN')\n",
        "axs[1].set_xlabel('Timestamp')\n",
        "axs[1].set_ylabel('Power Consumption')\n",
        "fig.show()"
      ],
      "execution_count": 21,
      "outputs": [
        {
          "output_type": "display_data",
          "data": {
            "image/png": "[encoded data removed]",
            "text/plain": [
              "<Figure size 1440x576 with 2 Axes>"
            ]
          },
          "metadata": {
            "tags": [],
            "needs_background": "light"
          }
        }
      ]
    },
    {
      "cell_type": "markdown",
      "metadata": {
        "id": "0GrW48IwSceL"
      },
      "source": [
        "**LSTM**\n",
        "\n"
      ]
    },
    {
      "cell_type": "code",
      "metadata": {
        "id": "W54kZCoh96BC"
      },
      "source": [
        "# reshape data\n",
        "X_train = np.asarray(X_train).astype('float32').reshape(-1, 1, 6)\n",
        "y_train_ref = np.asarray(y_train_ref).astype('float32').reshape(-1, 1, 1)\n",
        "y_train_dishwasher = np.asarray(y_train_dishwasher).astype('float32').reshape(-1, 1, 1)\n",
        "X_test = np.asarray(X_test).astype('float32').reshape(-1, 1, 6)\n",
        "y_test_ref = np.asarray(y_test_ref).astype('float32').reshape(-1, 1)\n",
        "y_test_dishwasher = np.asarray(y_test_dishwasher).astype('float32').reshape(-1, 1)"
      ],
      "execution_count": 22,
      "outputs": []
    },
    {
      "cell_type": "code",
      "metadata": {
        "id": "phbbVkPDuHhF"
      },
      "source": [
        "def long_short_term_memory(X_train, y_train, batch_size, epoch):\n",
        "\n",
        "    np.random.seed(1)\n",
        "    tensorflow.random.set_seed(2)\n",
        "    model = Sequential()\n",
        "    model.add(LSTM(units = 32, return_sequences = True, input_shape = (1, 6)))\n",
        "    model.add(Dropout(0.5))\n",
        "    model.add(LSTM(units = 64, return_sequences = True))\n",
        "    model.add(Dropout(0.5))\n",
        "    model.add(LSTM(units = 128, return_sequences = True))\n",
        "    model.add(Dropout(0.5))\n",
        "    model.add(Dense(units = 1))\n",
        "    model.compile(optimizer = 'adam', loss = 'mean_squared_error')\n",
        "    model.fit(X_train, y_train, epochs = epoch, batch_size=batch_size)\n",
        "\n",
        "    return model"
      ],
      "execution_count": 23,
      "outputs": []
    },
    {
      "cell_type": "code",
      "metadata": {
        "id": "glbQD_JUYTRX",
        "colab": {
          "base_uri": "https://localhost:8080/"
        },
        "outputId": "3ce3e263-4d19-4816-d734-6bc508932042"
      },
      "source": [
        "ref_predict_lstm = long_short_term_memory(X_train, y_train_ref, 32, 10).predict(X_test).reshape(-1, 1)\n",
        "print('LSTM RMSE of Refrigerator:', np.sqrt(metrics.mean_squared_error(y_test_ref, ref_predict_lstm)))\n",
        "print('LSTM MAE of Refrigerator:', np.sqrt(metrics.mean_absolute_error(y_test_ref, ref_predict_lstm)))\n",
        "dishwasher_predict_lstm = long_short_term_memory(X_train, y_train_dishwasher, 32, 10).predict(X_test).reshape(-1, 1)\n",
        "print('LSTM RMSE of Dishwasher:', np.sqrt(metrics.mean_squared_error(y_test_dishwasher, dishwasher_predict_lstm)))\n",
        "print('LSTM MAE of Dishwasher:', np.sqrt(metrics.mean_absolute_error(y_test_dishwasher, dishwasher_predict_lstm)))"
      ],
      "execution_count": 24,
      "outputs": [
        {
          "output_type": "stream",
          "text": [
            "Epoch 1/10\n",
            "7324/7324 [==============================] - 50s 6ms/step - loss: 4448.1450\n",
            "Epoch 2/10\n",
            "7324/7324 [==============================] - 45s 6ms/step - loss: 2347.0166\n",
            "Epoch 3/10\n",
            "7324/7324 [==============================] - 44s 6ms/step - loss: 2390.5673\n",
            "Epoch 4/10\n",
            "7324/7324 [==============================] - 45s 6ms/step - loss: 2274.4714\n",
            "Epoch 5/10\n",
            "7324/7324 [==============================] - 45s 6ms/step - loss: 2120.0338\n",
            "Epoch 6/10\n",
            "7324/7324 [==============================] - 45s 6ms/step - loss: 2261.7019\n",
            "Epoch 7/10\n",
            "7324/7324 [==============================] - 45s 6ms/step - loss: 2283.7637\n",
            "Epoch 8/10\n",
            "7324/7324 [==============================] - 46s 6ms/step - loss: 2302.1378\n",
            "Epoch 9/10\n",
            "7324/7324 [==============================] - 45s 6ms/step - loss: 2174.2795\n",
            "Epoch 10/10\n",
            "7324/7324 [==============================] - 46s 6ms/step - loss: 2136.5003\n",
            "LSTM RMSE of Refrigerator: 53.1236\n",
            "LSTM MAE of Refrigerator: 4.4974627\n",
            "Epoch 1/10\n",
            "7324/7324 [==============================] - 50s 6ms/step - loss: 19740.0724\n",
            "Epoch 2/10\n",
            "7324/7324 [==============================] - 46s 6ms/step - loss: 12721.4006\n",
            "Epoch 3/10\n",
            "7324/7324 [==============================] - 45s 6ms/step - loss: 11123.3703\n",
            "Epoch 4/10\n",
            "7324/7324 [==============================] - 45s 6ms/step - loss: 10853.1672\n",
            "Epoch 5/10\n",
            "7324/7324 [==============================] - 45s 6ms/step - loss: 9446.7416\n",
            "Epoch 6/10\n",
            "7324/7324 [==============================] - 45s 6ms/step - loss: 8379.9067\n",
            "Epoch 7/10\n",
            "7324/7324 [==============================] - 45s 6ms/step - loss: 8905.5295\n",
            "Epoch 8/10\n",
            "7324/7324 [==============================] - 45s 6ms/step - loss: 9389.3673\n",
            "Epoch 9/10\n",
            "7324/7324 [==============================] - 45s 6ms/step - loss: 8935.9943\n",
            "Epoch 10/10\n",
            "7324/7324 [==============================] - 45s 6ms/step - loss: 9876.1186\n",
            "LSTM RMSE of Dishwasher: 84.71993\n",
            "LSTM MAE of Dishwasher: 4.1888523\n"
          ],
          "name": "stdout"
        }
      ]
    },
    {
      "cell_type": "markdown",
      "metadata": {
        "id": "9fNn74TkR3WF"
      },
      "source": [
        "**CNN**\n"
      ]
    },
    {
      "cell_type": "code",
      "metadata": {
        "id": "m06jVeEA8_Kc"
      },
      "source": [
        "def CNN(X_train, y_train, batch_size, epoch):\n",
        "\n",
        "    np.random.seed(1)\n",
        "    tensorflow.random.set_seed(2)\n",
        "    model = Sequential()\n",
        "    model.add(Conv1D(filters=128, kernel_size=1, activation='relu', strides=1, padding='valid', data_format='channels_last', input_shape=(1,6)))\n",
        "    model.add(MaxPooling1D(pool_size=1, strides=None, padding='valid', data_format='channels_last')) \n",
        "    model.add(Conv1D(filters=64, kernel_size=1, activation='relu', strides=1, padding='valid', data_format='channels_last', input_shape=(1,6)))\n",
        "    model.add(MaxPooling1D(pool_size=1, strides=None, padding='valid', data_format='channels_last')) \n",
        "    model.add(Conv1D(filters=32, kernel_size=1, activation='relu', strides=1, padding='valid', data_format='channels_last', input_shape=(1,6)))\n",
        "    model.add(MaxPooling1D(pool_size=1, strides=None, padding='valid', data_format='channels_last')) \n",
        "    model.add(Flatten())\n",
        "    model.add(Dense(units=50, activation='relu', use_bias=True, kernel_initializer='glorot_uniform', bias_initializer='zeros'))\n",
        "    model.add(Dense(units=1))\n",
        "    model.compile(optimizer='Adam', loss='mse', loss_weights=None, sample_weight_mode=None, weighted_metrics=None, target_tensors=None)\n",
        "    model.fit(X_train, y_train, batch_size = batch_size, epochs = epoch)\n",
        "    \n",
        "    return model"
      ],
      "execution_count": 25,
      "outputs": []
    },
    {
      "cell_type": "code",
      "metadata": {
        "id": "4o-R4S8n8_NQ",
        "colab": {
          "base_uri": "https://localhost:8080/"
        },
        "outputId": "78866a30-47a2-42f6-97ba-cfaf0cf863bd"
      },
      "source": [
        "cnn_ref_pred = CNN(X_train, y_train_ref, 20, 25).predict(X_test).reshape(-1, 1)\n",
        "print('CNN RMSE of Refrigerator:', np.sqrt(metrics.mean_squared_error(y_test_ref, cnn_ref_pred)))\n",
        "print('CNN MAE of Refrigerator:', np.sqrt(metrics.mean_absolute_error(y_test_ref, cnn_ref_pred)))\n",
        "cnn_dishwasher_pred = CNN(X_train, y_train_dishwasher, 64, 25).predict(X_test).reshape(-1, 1)\n",
        "print('CNN RMSE of Dishwasher:', np.sqrt(metrics.mean_squared_error(y_test_dishwasher, cnn_dishwasher_pred)))\n",
        "print('CNN MAE of Dishwasher:', np.sqrt(metrics.mean_absolute_error(y_test_dishwasher, cnn_dishwasher_pred)))"
      ],
      "execution_count": 26,
      "outputs": [
        {
          "output_type": "stream",
          "text": [
            "Epoch 1/25\n",
            "11719/11719 [==============================] - 51s 4ms/step - loss: 2482.0565\n",
            "Epoch 2/25\n",
            "11719/11719 [==============================] - 52s 4ms/step - loss: 1457.3767\n",
            "Epoch 3/25\n",
            "11719/11719 [==============================] - 52s 4ms/step - loss: 1437.0258\n",
            "Epoch 4/25\n",
            "11719/11719 [==============================] - 40s 3ms/step - loss: 1296.9984\n",
            "Epoch 5/25\n",
            "11719/11719 [==============================] - 42s 4ms/step - loss: 1253.7736\n",
            "Epoch 6/25\n",
            "11719/11719 [==============================] - 41s 3ms/step - loss: 1298.0238\n",
            "Epoch 7/25\n",
            "11719/11719 [==============================] - 41s 3ms/step - loss: 1280.9741\n",
            "Epoch 8/25\n",
            "11719/11719 [==============================] - 41s 3ms/step - loss: 1325.6185\n",
            "Epoch 9/25\n",
            "11719/11719 [==============================] - 41s 3ms/step - loss: 1146.2739\n",
            "Epoch 10/25\n",
            "11719/11719 [==============================] - 40s 3ms/step - loss: 1138.8201\n",
            "Epoch 11/25\n",
            "11719/11719 [==============================] - 40s 3ms/step - loss: 1256.7650\n",
            "Epoch 12/25\n",
            "11719/11719 [==============================] - 40s 3ms/step - loss: 1196.8296\n",
            "Epoch 13/25\n",
            "11719/11719 [==============================] - 41s 3ms/step - loss: 1092.4817\n",
            "Epoch 14/25\n",
            "11719/11719 [==============================] - 40s 3ms/step - loss: 1207.7675\n",
            "Epoch 15/25\n",
            "11719/11719 [==============================] - 40s 3ms/step - loss: 1028.2262\n",
            "Epoch 16/25\n",
            "11719/11719 [==============================] - 40s 3ms/step - loss: 1125.8043\n",
            "Epoch 17/25\n",
            "11719/11719 [==============================] - 39s 3ms/step - loss: 996.3528\n",
            "Epoch 18/25\n",
            "11719/11719 [==============================] - 39s 3ms/step - loss: 1011.0386\n",
            "Epoch 19/25\n",
            "11719/11719 [==============================] - 39s 3ms/step - loss: 995.8217\n",
            "Epoch 20/25\n",
            "11719/11719 [==============================] - 39s 3ms/step - loss: 1120.0086\n",
            "Epoch 21/25\n",
            "11719/11719 [==============================] - 40s 3ms/step - loss: 1180.7820\n",
            "Epoch 22/25\n",
            "11719/11719 [==============================] - 39s 3ms/step - loss: 942.1822\n",
            "Epoch 23/25\n",
            "11719/11719 [==============================] - 39s 3ms/step - loss: 1390.9549\n",
            "Epoch 24/25\n",
            "11719/11719 [==============================] - 39s 3ms/step - loss: 1092.0238\n",
            "Epoch 25/25\n",
            "11719/11719 [==============================] - 24s 2ms/step - loss: 985.6380\n",
            "CNN RMSE of Refrigerator: 70.44651\n",
            "CNN MAE of Refrigerator: 5.259377\n",
            "Epoch 1/25\n",
            "3662/3662 [==============================] - 17s 5ms/step - loss: 7787.5291\n",
            "Epoch 2/25\n",
            "3662/3662 [==============================] - 17s 5ms/step - loss: 4850.2241\n",
            "Epoch 3/25\n",
            "3662/3662 [==============================] - 17s 5ms/step - loss: 4217.7531\n",
            "Epoch 4/25\n",
            "3662/3662 [==============================] - 17s 5ms/step - loss: 3368.8581\n",
            "Epoch 5/25\n",
            "3662/3662 [==============================] - 17s 5ms/step - loss: 2612.9109\n",
            "Epoch 6/25\n",
            "3662/3662 [==============================] - 17s 5ms/step - loss: 1753.7589\n",
            "Epoch 7/25\n",
            "3662/3662 [==============================] - 17s 5ms/step - loss: 1407.7472\n",
            "Epoch 8/25\n",
            "3662/3662 [==============================] - 17s 5ms/step - loss: 1403.5370\n",
            "Epoch 9/25\n",
            "3662/3662 [==============================] - 17s 5ms/step - loss: 1147.5898\n",
            "Epoch 10/25\n",
            "3662/3662 [==============================] - 18s 5ms/step - loss: 1148.5216\n",
            "Epoch 11/25\n",
            "3662/3662 [==============================] - 17s 5ms/step - loss: 1313.8907\n",
            "Epoch 12/25\n",
            "3662/3662 [==============================] - 17s 5ms/step - loss: 1008.7634\n",
            "Epoch 13/25\n",
            "3662/3662 [==============================] - 17s 5ms/step - loss: 1039.7421\n",
            "Epoch 14/25\n",
            "3662/3662 [==============================] - 17s 5ms/step - loss: 999.5236\n",
            "Epoch 15/25\n",
            "3662/3662 [==============================] - 17s 5ms/step - loss: 1055.5710\n",
            "Epoch 16/25\n",
            "3662/3662 [==============================] - 17s 5ms/step - loss: 785.0472\n",
            "Epoch 17/25\n",
            "3662/3662 [==============================] - 17s 5ms/step - loss: 992.1671\n",
            "Epoch 18/25\n",
            "3662/3662 [==============================] - 17s 5ms/step - loss: 790.4781\n",
            "Epoch 19/25\n",
            "3662/3662 [==============================] - 17s 5ms/step - loss: 776.8251\n",
            "Epoch 20/25\n",
            "3662/3662 [==============================] - 17s 5ms/step - loss: 763.9428\n",
            "Epoch 21/25\n",
            "3662/3662 [==============================] - 17s 5ms/step - loss: 738.4830\n",
            "Epoch 22/25\n",
            "3662/3662 [==============================] - 17s 5ms/step - loss: 663.1813\n",
            "Epoch 23/25\n",
            "3662/3662 [==============================] - 17s 5ms/step - loss: 686.3972\n",
            "Epoch 24/25\n",
            "3662/3662 [==============================] - 17s 5ms/step - loss: 711.1417\n",
            "Epoch 25/25\n",
            "3662/3662 [==============================] - 11s 3ms/step - loss: 733.0797\n",
            "CNN RMSE of Dishwasher: 103.58095\n",
            "CNN MAE of Dishwasher: 4.2019897\n"
          ],
          "name": "stdout"
        }
      ]
    },
    {
      "cell_type": "markdown",
      "metadata": {
        "id": "pYRRoD7w-NZ9"
      },
      "source": [
        "**Appliances Comparison**\n",
        "\n",
        "1.   Kitchen outlets: training 1, 2, 3, 4, testing 5, 6\n",
        "2.   Stove: training 1, 2, 4, testing 6\n",
        "\n"
      ]
    },
    {
      "cell_type": "code",
      "metadata": {
        "id": "Nna9hFqQ-DuQ"
      },
      "source": [
        "new_house1 = data_frames[1][['Month', 'Day', 'Hour', 'isWeekend', '1 mains', '2 mains', '14 stove']].rename(columns = {'14 stove': 'stove'})\n",
        "house1_kitchen_outlets = data_frames[1][['7 kitchen_outlets', '8 kitchen_outlets', '15 kitchen_outlets', '16 kitchen_outlets']].sum(axis=1).to_frame().rename(columns = {0: 'kitchen_outlets'})\n",
        "new_house1 = new_house1.merge(house1_kitchen_outlets, how='outer', left_index=True, right_index=True)\n",
        "\n",
        "new_house2 = data_frames[2][['Month', 'Day', 'Hour', 'isWeekend', '1 mains', '2 mains', '5 stove']].rename(columns = {'5 stove': 'stove'})\n",
        "house2_kitchen_outlets = data_frames[2][['3 kitchen_outlets', '8 kitchen_outlets']].sum(axis=1).to_frame().rename(columns = {0: 'kitchen_outlets'})\n",
        "new_house2 = new_house2.merge(house2_kitchen_outlets, how='outer', left_index=True, right_index=True)\n",
        "\n",
        "new_house3 = data_frames[3][['Month', 'Day', 'Hour', 'isWeekend', '1 mains', '2 mains']]\n",
        "house3_kitchen_outlets = data_frames[3][['21 kitchen_outlets', '22 kitchen_outlets']].sum(axis=1).to_frame().rename(columns = {0: 'kitchen_outlets'})\n",
        "new_house3 = new_house3.merge(house3_kitchen_outlets, how='outer', left_index=True, right_index=True)\n",
        "\n",
        "new_house4 = data_frames[4][['Month', 'Day', 'Hour', 'isWeekend', '1 mains', '2 mains', '8 stove']].rename(columns = {'8 stove': 'stove'})\n",
        "house4_kitchen_outlets = data_frames[4][['5 kitchen_outlets', '14 kitchen_outlets']].sum(axis=1).to_frame().rename(columns = {0: 'kitchen_outlets'})\n",
        "new_house4 = new_house4.merge(house4_kitchen_outlets, how='outer', left_index=True, right_index=True)\n",
        "\n",
        "new_house5 = data_frames[5][['Month', 'Day', 'Hour', 'isWeekend', '1 mains', '2 mains']]\n",
        "house5_kitchen_outlets = data_frames[5][['24 kitchen_outlets', '25 kitchen_outlets']].sum(axis=1).to_frame().rename(columns = {0: 'kitchen_outlets'})\n",
        "new_house5 = new_house5.merge(house5_kitchen_outlets, how='outer', left_index=True, right_index=True)\n",
        "\n",
        "new_house6 = data_frames[6][['Month', 'Day', 'Hour', 'isWeekend', '1 mains', '2 mains', '5 stove']].rename(columns = {'5 stove': 'stove'})\n",
        "house6_kitchen_outlets = data_frames[6][['3 kitchen_outlets', '13 kitchen_outlets']].sum(axis=1).to_frame().rename(columns = {0: 'kitchen_outlets'})\n",
        "new_house6 = new_house6.merge(house6_kitchen_outlets, how='outer', left_index=True, right_index=True)\n"
      ],
      "execution_count": 27,
      "outputs": []
    },
    {
      "cell_type": "code",
      "metadata": {
        "colab": {
          "base_uri": "https://localhost:8080/"
        },
        "id": "37SQBQOg-Dxm",
        "outputId": "1836f09b-9b1d-4dbc-c841-5589762259de"
      },
      "source": [
        "# aggregate kitchen outlets datasets\n",
        "kitchen_outlets_train_data = pd.concat([new_house1, new_house2, new_house3, new_house4], ignore_index=True)\n",
        "kitchen_outlets_test_data = pd.concat([new_house5, new_house6], ignore_index=True)\n",
        "X_train_kitchen_outlets, y_train_kitchen_outlets = kitchen_outlets_train_data[['Month', 'Day', 'Hour', 'isWeekend', '1 mains', '2 mains']], kitchen_outlets_train_data[['kitchen_outlets']]\n",
        "X_test_kitchen_outlets, y_test_kitchen_outlets = kitchen_outlets_test_data[['Month', 'Day', 'Hour', 'isWeekend', '1 mains', '2 mains']], kitchen_outlets_test_data[['kitchen_outlets']]\n",
        "print('X_train_kitchen_outlets size: {}, y_train_kitchen_outlets size: {}, X_test_kitchen_outlets size: {}, y_test_kitchen_outlets size: {}'.format(X_train_kitchen_outlets.shape, y_train_kitchen_outlets.shape, X_test_kitchen_outlets.shape, y_test_kitchen_outlets.shape))"
      ],
      "execution_count": 28,
      "outputs": [
        {
          "output_type": "stream",
          "text": [
            "X_train_kitchen_outlets size: (1527814, 6), y_train_kitchen_outlets size: (1527814, 1), X_test_kitchen_outlets size: (269643, 6), y_test_kitchen_outlets size: (269643, 1)\n"
          ],
          "name": "stdout"
        }
      ]
    },
    {
      "cell_type": "code",
      "metadata": {
        "colab": {
          "base_uri": "https://localhost:8080/"
        },
        "id": "24hQvYEYB5W9",
        "outputId": "8cab7c70-a46b-4c10-dba4-4ac3162c445f"
      },
      "source": [
        "# aggregate stove datasets\n",
        "stove_train_data = pd.concat([new_house1, new_house2, new_house4], ignore_index=True)\n",
        "stove_test_data = pd.concat([new_house6], ignore_index=True)\n",
        "X_train_stove, y_train_stove = stove_train_data[['Month', 'Day', 'Hour', 'isWeekend', '1 mains', '2 mains']], stove_train_data[['stove']]\n",
        "X_test_stove, y_test_stove = stove_test_data[['Month', 'Day', 'Hour', 'isWeekend', '1 mains', '2 mains']], stove_test_data[['stove']]\n",
        "print('X_train_stove size: {}, y_train_stove size: {}, X_test_stove size: {}, y_test_stove size: {}'.format(X_train_stove.shape, y_train_stove.shape, X_test_stove.shape, y_test_stove.shape))"
      ],
      "execution_count": 29,
      "outputs": [
        {
          "output_type": "stream",
          "text": [
            "X_train_stove size: (1151664, 6), y_train_stove size: (1151664, 1), X_test_stove size: (192192, 6), y_test_stove size: (192192, 1)\n"
          ],
          "name": "stdout"
        }
      ]
    },
    {
      "cell_type": "code",
      "metadata": {
        "colab": {
          "base_uri": "https://localhost:8080/"
        },
        "id": "xYGr9jhMEu-N",
        "outputId": "5533bd87-b140-4e3b-eb30-b560f22eee4f"
      },
      "source": [
        "# Random Forest Regression\n",
        "regressor1 = ensemble.RandomForestRegressor(n_estimators=5, random_state=10)\n",
        "regressor1.fit(X_train_kitchen_outlets, np.asarray(y_train_kitchen_outlets).reshape(-1))\n",
        "y_predict_kitchen_outlets = regressor1.predict(X_test_kitchen_outlets)\n",
        "print('Random Forest Regression RMSE of Kitchen Outlets:', np.sqrt(metrics.mean_squared_error(y_test_kitchen_outlets, y_predict_kitchen_outlets)))\n",
        "print('Random Forest Regression MAE of Kitchen Outlets:', np.sqrt(metrics.mean_absolute_error(y_test_kitchen_outlets, y_predict_kitchen_outlets)))\n",
        "\n",
        "regressor2 = ensemble.RandomForestRegressor(n_estimators=5, random_state=10)\n",
        "regressor2.fit(X_train_stove, np.asarray(y_train_stove).reshape(-1))\n",
        "y_predict_stove = regressor2.predict(X_test_stove)\n",
        "print('Random Forest Regression RMSE of Stove:', np.sqrt(metrics.mean_squared_error(y_test_stove, y_predict_stove)))\n",
        "print('Random Forest Regression MAE of Stove:', np.sqrt(metrics.mean_absolute_error(y_test_stove, y_predict_stove)))"
      ],
      "execution_count": 30,
      "outputs": [
        {
          "output_type": "stream",
          "text": [
            "Random Forest Regression RMSE of Kitchen Outlets: 108.87478999184123\n",
            "Random Forest Regression MAE of Kitchen Outlets: 5.809770168516705\n",
            "Random Forest Regression RMSE of Stove: 70.16694357831634\n",
            "Random Forest Regression MAE of Stove: 3.322216545178877\n"
          ],
          "name": "stdout"
        }
      ]
    },
    {
      "cell_type": "code",
      "metadata": {
        "colab": {
          "base_uri": "https://localhost:8080/"
        },
        "id": "1a6Rz9zrEvNk",
        "outputId": "78c5c5df-8570-4358-cc4f-b4c8bd0ce8e5"
      },
      "source": [
        "# KNN regression\n",
        "neigh1 = KNeighborsRegressor(n_neighbors=50)\n",
        "neigh1.fit(X_train_kitchen_outlets, y_train_kitchen_outlets)\n",
        "y_predict_kitchen_outlets = neigh1.predict(X_test_kitchen_outlets)\n",
        "print('KNN Regression RMSE of Kitchen Outlets:', np.sqrt(metrics.mean_squared_error(y_test_kitchen_outlets, y_predict_kitchen_outlets)))\n",
        "print('KNN Regression MAE of Kitchen Outlets:', np.sqrt(metrics.mean_absolute_error(y_test_kitchen_outlets, y_predict_kitchen_outlets)))\n",
        "\n",
        "neigh2 = KNeighborsRegressor(n_neighbors=50)\n",
        "neigh2.fit(X_train_stove, y_train_stove)\n",
        "y_predict_stove = neigh2.predict(X_test_stove)\n",
        "print('KNN Regression RMSE of Stove:', np.sqrt(metrics.mean_squared_error(y_test_stove, y_predict_stove)))\n",
        "print('KNN Regression MAE of Stove:', np.sqrt(metrics.mean_absolute_error(y_test_stove, y_predict_stove)))"
      ],
      "execution_count": 31,
      "outputs": [
        {
          "output_type": "stream",
          "text": [
            "KNN Regression RMSE of Kitchen Outlets: 126.85981815827328\n",
            "KNN Regression MAE of Kitchen Outlets: 6.030006495071752\n",
            "KNN Regression RMSE of Stove: 62.35743044987854\n",
            "KNN Regression MAE of Stove: 2.2202993791754375\n"
          ],
          "name": "stdout"
        }
      ]
    },
    {
      "cell_type": "code",
      "metadata": {
        "id": "krCSTw1ghMOM"
      },
      "source": [
        "X_train_kitchen_outlets = np.asarray(X_train_kitchen_outlets).astype('float32').reshape(-1, 1, 6)\n",
        "X_test_kitchen_outlets = np.asarray(X_test_kitchen_outlets).astype('float32').reshape(-1, 1, 6)\n",
        "y_train_kitchen_outlets = np.asarray(y_train_kitchen_outlets).astype('float32').reshape(-1, 1, 1)\n",
        "y_test_kitchen_outlets = np.asarray(y_test_kitchen_outlets).astype('float32').reshape(-1, 1)\n",
        "X_train_stove = np.asarray(X_train_stove).astype('float32').reshape(-1, 1, 6)\n",
        "X_test_stove = np.asarray(X_test_stove).astype('float32').reshape(-1, 1, 6)\n",
        "y_train_stove = np.asarray(y_train_stove).astype('float32').reshape(-1, 1, 1)\n",
        "y_test_stove = np.asarray(y_test_stove).astype('float32').reshape(-1, 1)"
      ],
      "execution_count": 32,
      "outputs": []
    },
    {
      "cell_type": "code",
      "metadata": {
        "colab": {
          "base_uri": "https://localhost:8080/"
        },
        "id": "kQYWJioWEvUe",
        "outputId": "3b5f5188-6b72-4470-8113-36176cf3c074"
      },
      "source": [
        "# LSTM\n",
        "kitchen_outlets_predict_lstm = long_short_term_memory(X_train_kitchen_outlets, y_train_kitchen_outlets, 32, 10).predict(X_test_kitchen_outlets).reshape(-1, 1)\n",
        "print('LSTM RMSE of Kitchen Outlets:', np.sqrt(metrics.mean_squared_error(y_test_kitchen_outlets, kitchen_outlets_predict_lstm)))\n",
        "print('LSTM MAE of Kitchen Outlets:', np.sqrt(metrics.mean_absolute_error(y_test_kitchen_outlets, kitchen_outlets_predict_lstm)))\n",
        "\n",
        "stove_predict_lstm = long_short_term_memory(X_train_stove, y_train_stove, 32, 10).predict(X_test_stove).reshape(-1, 1)\n",
        "print('LSTM RMSE of Stove:', np.sqrt(metrics.mean_squared_error(y_test_stove, stove_predict_lstm)))\n",
        "print('LSTM MAE of Stove:', np.sqrt(metrics.mean_absolute_error(y_test_stove, stove_predict_lstm)))"
      ],
      "execution_count": 33,
      "outputs": [
        {
          "output_type": "stream",
          "text": [
            "Epoch 1/10\n",
            "47745/47745 [==============================] - 303s 6ms/step - loss: 7106.2460\n",
            "Epoch 2/10\n",
            "47745/47745 [==============================] - 297s 6ms/step - loss: 6884.3955\n",
            "Epoch 3/10\n",
            "47745/47745 [==============================] - 296s 6ms/step - loss: 6951.7086\n",
            "Epoch 4/10\n",
            "47745/47745 [==============================] - 294s 6ms/step - loss: 6822.7302\n",
            "Epoch 5/10\n",
            "47745/47745 [==============================] - 298s 6ms/step - loss: 6921.4295\n",
            "Epoch 6/10\n",
            "47745/47745 [==============================] - 297s 6ms/step - loss: 6723.8278\n",
            "Epoch 7/10\n",
            "47745/47745 [==============================] - 293s 6ms/step - loss: 6864.2567\n",
            "Epoch 8/10\n",
            "47745/47745 [==============================] - 294s 6ms/step - loss: 6862.8802\n",
            "Epoch 9/10\n",
            "47745/47745 [==============================] - 290s 6ms/step - loss: 6919.6092\n",
            "Epoch 10/10\n",
            "47745/47745 [==============================] - 293s 6ms/step - loss: 6841.2880\n",
            "LSTM RMSE of Kitchen Outlets: 60.64356\n",
            "LSTM MAE of Kitchen Outlets: 5.061346\n",
            "Epoch 1/10\n",
            "35990/35990 [==============================] - 225s 6ms/step - loss: 1957.6449\n",
            "Epoch 2/10\n",
            "35990/35990 [==============================] - 221s 6ms/step - loss: 1898.0572\n",
            "Epoch 3/10\n",
            "35990/35990 [==============================] - 223s 6ms/step - loss: 2153.9640\n",
            "Epoch 4/10\n",
            "35990/35990 [==============================] - 221s 6ms/step - loss: 2064.4752\n",
            "Epoch 5/10\n",
            "35990/35990 [==============================] - 222s 6ms/step - loss: 1946.9273\n",
            "Epoch 6/10\n",
            "35990/35990 [==============================] - 222s 6ms/step - loss: 1982.2124\n",
            "Epoch 7/10\n",
            "35990/35990 [==============================] - 222s 6ms/step - loss: 1996.3851\n",
            "Epoch 8/10\n",
            "35990/35990 [==============================] - 221s 6ms/step - loss: 1976.0026\n",
            "Epoch 9/10\n",
            "35990/35990 [==============================] - 221s 6ms/step - loss: 2052.7363\n",
            "Epoch 10/10\n",
            "35990/35990 [==============================] - 222s 6ms/step - loss: 2220.6517\n",
            "LSTM RMSE of Stove: 61.017464\n",
            "LSTM MAE of Stove: 1.9044639\n"
          ],
          "name": "stdout"
        }
      ]
    },
    {
      "cell_type": "code",
      "metadata": {
        "colab": {
          "base_uri": "https://localhost:8080/"
        },
        "id": "FTjey7z-EvZQ",
        "outputId": "5620853d-7195-4192-d50d-e46ff13d94c1"
      },
      "source": [
        "# CNN\n",
        "cnn_kitchen_outlets_pred = CNN(X_train_kitchen_outlets, y_train_kitchen_outlets, 64, 25).predict(X_test_kitchen_outlets).reshape(-1, 1)\n",
        "print('CNN RMSE of Kitchen Outlets:', np.sqrt(metrics.mean_squared_error(y_test_kitchen_outlets, cnn_kitchen_outlets_pred)))\n",
        "print('CNN MAE of Kitchen Outlets:', np.sqrt(metrics.mean_absolute_error(y_test_kitchen_outlets, cnn_kitchen_outlets_pred)))\n",
        "\n",
        "cnn_stove_pred = CNN(X_train_stove, y_train_stove, 64, 25).predict(X_test_stove).reshape(-1, 1)\n",
        "print('CNN RMSE of Stove:', np.sqrt(metrics.mean_squared_error(y_test_stove, cnn_stove_pred)))\n",
        "print('CNN MAE of Stove:', np.sqrt(metrics.mean_absolute_error(y_test_stove, cnn_stove_pred)))"
      ],
      "execution_count": 34,
      "outputs": [
        {
          "output_type": "stream",
          "text": [
            "Epoch 1/25\n",
            "23873/23873 [==============================] - 64s 3ms/step - loss: 6410.9922\n",
            "Epoch 2/25\n",
            "23873/23873 [==============================] - 63s 3ms/step - loss: 5396.2958\n",
            "Epoch 3/25\n",
            "23873/23873 [==============================] - 63s 3ms/step - loss: 4484.8558\n",
            "Epoch 4/25\n",
            "23873/23873 [==============================] - 63s 3ms/step - loss: 4077.9172\n",
            "Epoch 5/25\n",
            "23873/23873 [==============================] - 63s 3ms/step - loss: 3778.9792\n",
            "Epoch 6/25\n",
            "23873/23873 [==============================] - 63s 3ms/step - loss: 3494.6016\n",
            "Epoch 7/25\n",
            "23873/23873 [==============================] - 63s 3ms/step - loss: 3372.5823\n",
            "Epoch 8/25\n",
            "23873/23873 [==============================] - 63s 3ms/step - loss: 3249.8864\n",
            "Epoch 9/25\n",
            "23873/23873 [==============================] - 62s 3ms/step - loss: 3153.2006\n",
            "Epoch 10/25\n",
            "23873/23873 [==============================] - 62s 3ms/step - loss: 2967.1110\n",
            "Epoch 11/25\n",
            "23873/23873 [==============================] - 63s 3ms/step - loss: 2964.1864\n",
            "Epoch 12/25\n",
            "23873/23873 [==============================] - 64s 3ms/step - loss: 2929.3341\n",
            "Epoch 13/25\n",
            "23873/23873 [==============================] - 63s 3ms/step - loss: 2885.2170\n",
            "Epoch 14/25\n",
            "23873/23873 [==============================] - 63s 3ms/step - loss: 2681.4143\n",
            "Epoch 15/25\n",
            "23873/23873 [==============================] - 64s 3ms/step - loss: 2730.3804\n",
            "Epoch 16/25\n",
            "23873/23873 [==============================] - 63s 3ms/step - loss: 2500.2730\n",
            "Epoch 17/25\n",
            "23873/23873 [==============================] - 63s 3ms/step - loss: 2584.2734\n",
            "Epoch 18/25\n",
            "23873/23873 [==============================] - 63s 3ms/step - loss: 2478.7076\n",
            "Epoch 19/25\n",
            "23873/23873 [==============================] - 63s 3ms/step - loss: 2343.3377\n",
            "Epoch 20/25\n",
            "23873/23873 [==============================] - 64s 3ms/step - loss: 2363.3661\n",
            "Epoch 21/25\n",
            "23873/23873 [==============================] - 63s 3ms/step - loss: 2311.6206\n",
            "Epoch 22/25\n",
            "23873/23873 [==============================] - 62s 3ms/step - loss: 2351.3228\n",
            "Epoch 23/25\n",
            "23873/23873 [==============================] - 62s 3ms/step - loss: 2194.0786\n",
            "Epoch 24/25\n",
            "23873/23873 [==============================] - 63s 3ms/step - loss: 2284.8799\n",
            "Epoch 25/25\n",
            "23873/23873 [==============================] - 63s 3ms/step - loss: 2144.1612\n",
            "CNN RMSE of Kitchen Outlets: 108.22435\n",
            "CNN MAE of Kitchen Outlets: 5.5960217\n",
            "Epoch 1/25\n",
            "17995/17995 [==============================] - 48s 3ms/step - loss: 1800.0193\n",
            "Epoch 2/25\n",
            "17995/17995 [==============================] - 48s 3ms/step - loss: 1559.3912\n",
            "Epoch 3/25\n",
            "17995/17995 [==============================] - 47s 3ms/step - loss: 1583.4190\n",
            "Epoch 4/25\n",
            "17995/17995 [==============================] - 47s 3ms/step - loss: 1379.1053\n",
            "Epoch 5/25\n",
            "17995/17995 [==============================] - 48s 3ms/step - loss: 1146.0742\n",
            "Epoch 6/25\n",
            "17995/17995 [==============================] - 48s 3ms/step - loss: 1174.0146\n",
            "Epoch 7/25\n",
            "17995/17995 [==============================] - 49s 3ms/step - loss: 1032.7956\n",
            "Epoch 8/25\n",
            "17995/17995 [==============================] - 48s 3ms/step - loss: 1200.5256\n",
            "Epoch 9/25\n",
            "17995/17995 [==============================] - 48s 3ms/step - loss: 1071.5612\n",
            "Epoch 10/25\n",
            "17995/17995 [==============================] - 47s 3ms/step - loss: 1003.2488\n",
            "Epoch 11/25\n",
            "17995/17995 [==============================] - 47s 3ms/step - loss: 955.9571\n",
            "Epoch 12/25\n",
            "17995/17995 [==============================] - 47s 3ms/step - loss: 947.8918\n",
            "Epoch 13/25\n",
            "17995/17995 [==============================] - 48s 3ms/step - loss: 892.7445\n",
            "Epoch 14/25\n",
            "17995/17995 [==============================] - 48s 3ms/step - loss: 795.9764\n",
            "Epoch 15/25\n",
            "17995/17995 [==============================] - 47s 3ms/step - loss: 820.5287\n",
            "Epoch 16/25\n",
            "17995/17995 [==============================] - 47s 3ms/step - loss: 876.4864\n",
            "Epoch 17/25\n",
            "17995/17995 [==============================] - 48s 3ms/step - loss: 810.2466\n",
            "Epoch 18/25\n",
            "17995/17995 [==============================] - 48s 3ms/step - loss: 928.2086\n",
            "Epoch 19/25\n",
            "17995/17995 [==============================] - 48s 3ms/step - loss: 789.8847\n",
            "Epoch 20/25\n",
            "17995/17995 [==============================] - 48s 3ms/step - loss: 876.7438\n",
            "Epoch 21/25\n",
            "17995/17995 [==============================] - 49s 3ms/step - loss: 820.4604\n",
            "Epoch 22/25\n",
            "17995/17995 [==============================] - 48s 3ms/step - loss: 754.5935\n",
            "Epoch 23/25\n",
            "17995/17995 [==============================] - 48s 3ms/step - loss: 720.5509\n",
            "Epoch 24/25\n",
            "17995/17995 [==============================] - 48s 3ms/step - loss: 758.0381\n",
            "Epoch 25/25\n",
            "17995/17995 [==============================] - 48s 3ms/step - loss: 737.1886\n",
            "CNN RMSE of Stove: 61.28346\n",
            "CNN MAE of Stove: 1.6387278\n"
          ],
          "name": "stdout"
        }
      ]
    }
  ]
}